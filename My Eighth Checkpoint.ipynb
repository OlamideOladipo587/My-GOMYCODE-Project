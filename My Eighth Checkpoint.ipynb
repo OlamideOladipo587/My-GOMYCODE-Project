{
 "cells": [
  {
   "cell_type": "code",
   "execution_count": 54,
   "id": "e9445212",
   "metadata": {},
   "outputs": [
    {
     "name": "stdout",
     "output_type": "stream",
     "text": [
      "What is Python language?\n",
      "Python is a widely used high-level, general-purpose, interpreted, dynamic programming language.Its design philosophy emphasizes code readability, and its syntax allows programmers to express concepts in fewer lines of code than possible in languages such as C++ or Java.\n",
      "Python supports multiple programming paradigms, including object-oriented, imperative and functional programming or procedural styles.\n",
      "It features a dynamic type system and automatic memory management and has a large and comprehensive standard library.\n",
      "The best way we learn anything is by practice and exercise questions.\n",
      "We  have started this section for those (beginner to intermediate) who are familiar with Python.\n",
      "\n",
      "\n",
      "What is Python language?\n",
      "\n",
      "\n",
      "Python is a widely used high-level, general-purpose, interpreted, dynamic programming language.Its design philosophy emphasizes code readability, and its syntax allows programmers to express concepts in fewer lines of code than possible in languages such as C++ or Java.\n",
      "\n",
      "\n",
      "Python supports multiple programming paradigms, including object-oriented, imperative and functional programming or procedural styles.\n",
      "\n",
      "\n",
      "The best way we learn anything is by practice and exercise questions.\n",
      "\n",
      "We  have started this section for those (beginner to intermediate) who are familiar with Python.\n",
      "\n",
      "The number of words is: 101\n",
      "\n",
      "It features a dynamic type system and automatic memory management and has a large and comprehensive standard library.\n",
      "\n",
      "The best way we learn anything is by practice and exercise questions.\n",
      "\n",
      "We  have started this section for those (beginner to intermediate) who are familiar with Python.\n",
      "\n"
     ]
    }
   ],
   "source": [
    "#Question1\n",
    "with open(\"olamide.txt\", \"w\") as olamide:\n",
    "    olamide.write(\"What is Python language?\\n\")\n",
    "    olamide.write(\"Python is a widely used high-level, general-purpose, interpreted, dynamic programming language.Its design philosophy emphasizes code readability, and its syntax allows programmers to express concepts in fewer lines of code than possible in languages such as C++ or Java.\\n\")\n",
    "    olamide.write(\"Python supports multiple programming paradigms, including object-oriented, imperative and functional programming or procedural styles.\\n\")\n",
    "    olamide.write(\"It features a dynamic type system and automatic memory management and has a large and comprehensive standard library.\\n\")\n",
    "    olamide.write(\"The best way we learn anything is by practice and exercise questions.\\n\")  \n",
    "    olamide.write(\"We  have started this section for those (beginner to intermediate) who are familiar with Python.\\n\")\n",
    "olamide.close()\n",
    "olamide = open(\"olamide.txt\", \"r\")\n",
    "print(f\"{olamide.read()}\\n\")\n",
    "\n",
    "#Question2\n",
    "with open(\"olamide.txt\", \"r\") as olamide:\n",
    "    counter = 0\n",
    "    for i in olamide:\n",
    "        print(f\"{i}\\n\")\n",
    "        counter+=1\n",
    "        if counter == 3:\n",
    "            break\n",
    "#Question3 \n",
    "    a = 0\n",
    "    for i in (olamide.readlines()[-2:]):\n",
    "        print(i,)\n",
    "#Question4\n",
    "olamide = open(\"olamide.txt\", \"r\")\n",
    "b = olamide.read()\n",
    "c = b.split()\n",
    "print(f\"The number of words is: {len(c)}\\n\")\n",
    "\n",
    "#Question5\n",
    "with open(\"olamide.txt\", \"r\") as olamide:\n",
    "    a1 = 0\n",
    "    for i in (olamide.readlines()[-3:]):\n",
    "        print(i)\n",
    "olamide.close()"
   ]
  },
  {
   "cell_type": "code",
   "execution_count": null,
   "id": "d1e9b442",
   "metadata": {},
   "outputs": [],
   "source": []
  },
  {
   "cell_type": "code",
   "execution_count": null,
   "id": "188eaca3",
   "metadata": {},
   "outputs": [],
   "source": []
  }
 ],
 "metadata": {
  "kernelspec": {
   "display_name": "Python 3",
   "language": "python",
   "name": "python3"
  },
  "language_info": {
   "codemirror_mode": {
    "name": "ipython",
    "version": 3
   },
   "file_extension": ".py",
   "mimetype": "text/x-python",
   "name": "python",
   "nbconvert_exporter": "python",
   "pygments_lexer": "ipython3",
   "version": "3.8.8"
  }
 },
 "nbformat": 4,
 "nbformat_minor": 5
}
