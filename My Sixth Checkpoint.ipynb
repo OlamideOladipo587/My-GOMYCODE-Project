{
 "cells": [
  {
   "cell_type": "code",
   "execution_count": 1,
   "id": "89ef425a",
   "metadata": {},
   "outputs": [
    {
     "name": "stdout",
     "output_type": "stream",
     "text": [
      "[1, 3, 4, 7, 9]\n"
     ]
    }
   ],
   "source": [
    "#Question1\n",
    "import numpy as np\n",
    "array = np.array([1,3,4,7,9])\n",
    "print(array.tolist())"
   ]
  },
  {
   "cell_type": "code",
   "execution_count": 3,
   "id": "62c03b98",
   "metadata": {},
   "outputs": [
    {
     "name": "stdout",
     "output_type": "stream",
     "text": [
      "[[1 2 3]\n",
      " [4 7 5]\n",
      " [9 3 8]]\n",
      "16\n"
     ]
    }
   ],
   "source": [
    "#Questuion2 \n",
    "import numpy as np\n",
    "a = np.array([[1,2,3],[4,7,5],[9,3,8]])\n",
    "print(a)\n",
    "b = np.trace(a)\n",
    "print(b)"
   ]
  },
  {
   "cell_type": "code",
   "execution_count": 9,
   "id": "20791a69",
   "metadata": {},
   "outputs": [
    {
     "name": "stdout",
     "output_type": "stream",
     "text": [
      "[4 6 4 7 5]\n"
     ]
    }
   ],
   "source": [
    "#Questuion3\n",
    "import numpy as np\n",
    "a = np.array([[1,2,4,6],[4,7,3,5]])\n",
    "b = []\n",
    "X = 3\n",
    "for i in np.nditer(a):\n",
    "    if i > X:\n",
    "        b.append(i)\n",
    "c = np.array(b)\n",
    "print(c)"
   ]
  },
  {
   "cell_type": "code",
   "execution_count": 6,
   "id": "fd74df1e",
   "metadata": {},
   "outputs": [
    {
     "name": "stdout",
     "output_type": "stream",
     "text": [
      "[[ 6 13  9]\n",
      " [11  7 12]]\n"
     ]
    }
   ],
   "source": [
    "#Question4\n",
    "import numpy as np\n",
    "A = np.array([[5,9,2],[2,4,7]])\n",
    "B = np.array([[1,4,7],[9,3,5]])\n",
    "C = np.add(A,B)\n",
    "print(C)"
   ]
  },
  {
   "cell_type": "code",
   "execution_count": 9,
   "id": "591ae2eb",
   "metadata": {},
   "outputs": [
    {
     "name": "stdout",
     "output_type": "stream",
     "text": [
      "[[1 3 5]\n",
      " [7 9 2]\n",
      " [5 6 4]]\n",
      "3.0\n",
      "6.0\n",
      "5.0\n",
      "-8.0\n"
     ]
    }
   ],
   "source": [
    "#Question5\n",
    "import numpy as np\n",
    "a = np.array([[1,3,5],[7,9,2],[5,6,4]])\n",
    "print(a)\n",
    "a1 = np.mean(a[0,:])\n",
    "print(a1)\n",
    "a2 = np.mean(a[1,:])\n",
    "print(a2)\n",
    "a3 = np.mean(a[2,:])\n",
    "print(a3)\n",
    "b = a1 - a2 - a3\n",
    "print(b)\n"
   ]
  },
  {
   "cell_type": "code",
   "execution_count": null,
   "id": "d2da7a8d",
   "metadata": {},
   "outputs": [],
   "source": []
  }
 ],
 "metadata": {
  "kernelspec": {
   "display_name": "Python 3",
   "language": "python",
   "name": "python3"
  },
  "language_info": {
   "codemirror_mode": {
    "name": "ipython",
    "version": 3
   },
   "file_extension": ".py",
   "mimetype": "text/x-python",
   "name": "python",
   "nbconvert_exporter": "python",
   "pygments_lexer": "ipython3",
   "version": "3.8.8"
  }
 },
 "nbformat": 4,
 "nbformat_minor": 5
}
