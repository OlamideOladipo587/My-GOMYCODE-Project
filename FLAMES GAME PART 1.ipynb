{
 "cells": [
  {
   "cell_type": "code",
   "execution_count": 3,
   "id": "599890a8",
   "metadata": {},
   "outputs": [
    {
     "name": "stdout",
     "output_type": "stream",
     "text": [
      "Enter your name: olamide\n",
      "Enter the person name: oladipo\n",
      "[['m', 'e', 'p'], True]\n"
     ]
    }
   ],
   "source": [
    "list1 = input(\"Enter your name: \")\n",
    "list2 = input(\"Enter the person name: \")\n",
    "l1 = []\n",
    "l2 = []\n",
    "l3 = []\n",
    "for i in list1:\n",
    "    for j in list2:\n",
    "        if i == j:\n",
    "            l3.append(i)\n",
    "for k in range(len(list1)):\n",
    "    l1.append(list1[k])\n",
    "for l in range(len(list2)):\n",
    "    l2.append(list2[l])\n",
    "for m in l3:\n",
    "    if m in l1:\n",
    "        l1.remove(m)\n",
    "    if m in l2:\n",
    "        l2.remove(m)\n",
    "list3 = [*l1, *l2]\n",
    "print([list3, True])\n",
    "   "
   ]
  },
  {
   "cell_type": "code",
   "execution_count": null,
   "id": "a6ae264a",
   "metadata": {},
   "outputs": [],
   "source": []
  },
  {
   "cell_type": "code",
   "execution_count": null,
   "id": "59cd42ef",
   "metadata": {},
   "outputs": [],
   "source": []
  }
 ],
 "metadata": {
  "kernelspec": {
   "display_name": "Python 3",
   "language": "python",
   "name": "python3"
  },
  "language_info": {
   "codemirror_mode": {
    "name": "ipython",
    "version": 3
   },
   "file_extension": ".py",
   "mimetype": "text/x-python",
   "name": "python",
   "nbconvert_exporter": "python",
   "pygments_lexer": "ipython3",
   "version": "3.8.8"
  }
 },
 "nbformat": 4,
 "nbformat_minor": 5
}
