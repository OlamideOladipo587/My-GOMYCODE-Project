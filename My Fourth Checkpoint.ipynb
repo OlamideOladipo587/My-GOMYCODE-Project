{
 "cells": [
  {
   "cell_type": "code",
   "execution_count": 12,
   "id": "325625de",
   "metadata": {},
   "outputs": [
    {
     "name": "stdout",
     "output_type": "stream",
     "text": [
      "Enter three numbers to find the maximum number 67 89 40\n",
      "The maximum number is 89\n"
     ]
    }
   ],
   "source": [
    "#Question1\n",
    "numbers = input(\"Enter three numbers to find the maximum number \").split()\n",
    "def maximum(numbers):\n",
    "    l = 0\n",
    "    for i in range(0, len(numbers)):\n",
    "        numbers[i] = int(numbers[i])\n",
    "        if numbers[i] > l:\n",
    "            l = numbers[i]\n",
    "    print(f\"The maximum number is {l}\" )\n",
    "maximum(numbers)\n",
    "\n",
    "    "
   ]
  },
  {
   "cell_type": "code",
   "execution_count": 45,
   "id": "23b841b7",
   "metadata": {},
   "outputs": [
    {
     "name": "stdout",
     "output_type": "stream",
     "text": [
      "Enter the first number 78\n",
      "Enter the second number 50\n",
      "128,28\n"
     ]
    }
   ],
   "source": [
    "#Question2\n",
    "a = int(input(\"Enter the first number \"))\n",
    "b = int(input(\"Enter the second number \"))\n",
    "def calculation(a,b):\n",
    "    add = a+b\n",
    "    sub = a-b\n",
    "    return print(f\"{add},{sub}\")\n",
    "calculation(a,b)"
   ]
  },
  {
   "cell_type": "code",
   "execution_count": 47,
   "id": "576d1ed1",
   "metadata": {},
   "outputs": [
    {
     "name": "stdout",
     "output_type": "stream",
     "text": [
      "(4, 8)\n"
     ]
    }
   ],
   "source": [
    "#Question3\n",
    "import functools\n",
    "def add(a):\n",
    "    b = 0\n",
    "    for i in range(len(a)):\n",
    "        b+=a[i]\n",
    "    return(b)\n",
    "def mul(a):\n",
    "    b = 1\n",
    "    for i in range(len(a)):\n",
    "        b*=a[i]\n",
    "    return(b)\n",
    "def cal(a):\n",
    "    d = []\n",
    "    e = []\n",
    "    for i in range(len(a)):\n",
    "        if i % 2 == 0:\n",
    "            d.append(a[i])\n",
    "        else:\n",
    "            e.append(a[i])\n",
    "    return add(d),mul(e)  \n",
    "a = [1,2,3,4]\n",
    "print(cal(a))          \n",
    "    \n",
    "\n",
    "    "
   ]
  },
  {
   "cell_type": "code",
   "execution_count": 46,
   "id": "5f65d5a7",
   "metadata": {},
   "outputs": [
    {
     "name": "stdout",
     "output_type": "stream",
     "text": [
      "Enter the words with - separating them green-red-yellow-black-white\n",
      "black-green-red-white-yellow\n"
     ]
    }
   ],
   "source": [
    "#Question4\n",
    "a = input(\"Enter the words with - separating them \").split(\"-\")\n",
    "a.sort()\n",
    "print(\"-\".join(a))"
   ]
  },
  {
   "cell_type": "code",
   "execution_count": 44,
   "id": "e084a110",
   "metadata": {},
   "outputs": [
    {
     "name": "stdout",
     "output_type": "stream",
     "text": [
      "Enter the values, separating them with a comma 23,45,67\n",
      "9,12,15\n"
     ]
    }
   ],
   "source": [
    "#Question5\n",
    "import math\n",
    "D = input(\"Enter the values, separating them with a comma \").split(\",\")\n",
    "def calculation(D,C=50,H=30):\n",
    "    b = []\n",
    "    for i in range(len(D)):\n",
    "        D[i] = int(D[i])\n",
    "        Q = round(math.sqrt((2*C*D[i])/H))\n",
    "        f = str(Q)\n",
    "        b.append(f)\n",
    "    c = print(\",\".join(b))\n",
    "    return(c)\n",
    "calculation(D)\n",
    "\n",
    "        "
   ]
  },
  {
   "cell_type": "code",
   "execution_count": null,
   "id": "daecadc3",
   "metadata": {},
   "outputs": [],
   "source": []
  },
  {
   "cell_type": "code",
   "execution_count": null,
   "id": "c0a519b3",
   "metadata": {},
   "outputs": [],
   "source": [
    "\n"
   ]
  }
 ],
 "metadata": {
  "kernelspec": {
   "display_name": "Python 3",
   "language": "python",
   "name": "python3"
  },
  "language_info": {
   "codemirror_mode": {
    "name": "ipython",
    "version": 3
   },
   "file_extension": ".py",
   "mimetype": "text/x-python",
   "name": "python",
   "nbconvert_exporter": "python",
   "pygments_lexer": "ipython3",
   "version": "3.8.8"
  }
 },
 "nbformat": 4,
 "nbformat_minor": 5
}
