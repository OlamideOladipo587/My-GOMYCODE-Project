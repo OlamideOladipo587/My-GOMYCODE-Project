{
 "cells": [
  {
   "cell_type": "code",
   "execution_count": 7,
   "id": "5671cc73",
   "metadata": {},
   "outputs": [
    {
     "name": "stdout",
     "output_type": "stream",
     "text": [
      "Enter first name:olamide\n",
      "Enter second name:oladipo\n",
      "['m', 'e', 'p', 'o']\n"
     ]
    }
   ],
   "source": [
    "list1 = input(\"Enter first name:\")\n",
    "list2 = input(\"Enter second name:\")\n",
    "list1 = list(list1) \n",
    "list2 = list(list2)\n",
    "for i in list1[:]:\n",
    "    if i in list2:\n",
    "        list1.remove(i) \n",
    "        list2.remove(i)\n",
    "list3 = [*list1, *list2]\n",
    "print(list3)    "
   ]
  },
  {
   "cell_type": "code",
   "execution_count": null,
   "id": "137cdd70",
   "metadata": {},
   "outputs": [],
   "source": []
  }
 ],
 "metadata": {
  "kernelspec": {
   "display_name": "Python 3",
   "language": "python",
   "name": "python3"
  },
  "language_info": {
   "codemirror_mode": {
    "name": "ipython",
    "version": 3
   },
   "file_extension": ".py",
   "mimetype": "text/x-python",
   "name": "python",
   "nbconvert_exporter": "python",
   "pygments_lexer": "ipython3",
   "version": "3.8.8"
  }
 },
 "nbformat": 4,
 "nbformat_minor": 5
}
